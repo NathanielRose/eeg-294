{
  "nbformat": 4,
  "nbformat_minor": 0,
  "metadata": {
    "colab": {
      "name": "Untitled4.ipynb",
      "provenance": [],
      "include_colab_link": true
    },
    "kernelspec": {
      "name": "python3",
      "display_name": "Python 3"
    }
  },
  "cells": [
    {
      "cell_type": "markdown",
      "metadata": {
        "id": "view-in-github",
        "colab_type": "text"
      },
      "source": [
        "<a href=\"https://colab.research.google.com/github/NathanielRose/eeg-294/blob/master/Gumpy-Testing.ipynb\" target=\"_parent\"><img src=\"https://colab.research.google.com/assets/colab-badge.svg\" alt=\"Open In Colab\"/></a>"
      ]
    },
    {
      "cell_type": "markdown",
      "metadata": {
        "id": "g8q58HqCy158",
        "colab_type": "text"
      },
      "source": [
        "**Testing for EEG | ML 294**"
      ]
    },
    {
      "cell_type": "code",
      "metadata": {
        "id": "Kp7bugOa316u",
        "colab_type": "code",
        "outputId": "4a0494e4-340d-49df-9f82-441e9879ee23",
        "colab": {
          "base_uri": "https://localhost:8080/",
          "height": 170
        }
      },
      "source": [
        "!pip install numpy scipy matplotlib"
      ],
      "execution_count": 1,
      "outputs": [
        {
          "output_type": "stream",
          "text": [
            "Requirement already satisfied: numpy in /usr/local/lib/python3.6/dist-packages (1.17.3)\n",
            "Requirement already satisfied: scipy in /usr/local/lib/python3.6/dist-packages (1.3.1)\n",
            "Requirement already satisfied: matplotlib in /usr/local/lib/python3.6/dist-packages (3.1.1)\n",
            "Requirement already satisfied: python-dateutil>=2.1 in /usr/local/lib/python3.6/dist-packages (from matplotlib) (2.6.1)\n",
            "Requirement already satisfied: pyparsing!=2.0.4,!=2.1.2,!=2.1.6,>=2.0.1 in /usr/local/lib/python3.6/dist-packages (from matplotlib) (2.4.2)\n",
            "Requirement already satisfied: kiwisolver>=1.0.1 in /usr/local/lib/python3.6/dist-packages (from matplotlib) (1.1.0)\n",
            "Requirement already satisfied: cycler>=0.10 in /usr/local/lib/python3.6/dist-packages (from matplotlib) (0.10.0)\n",
            "Requirement already satisfied: six>=1.5 in /usr/local/lib/python3.6/dist-packages (from python-dateutil>=2.1->matplotlib) (1.12.0)\n",
            "Requirement already satisfied: setuptools in /usr/local/lib/python3.6/dist-packages (from kiwisolver>=1.0.1->matplotlib) (41.4.0)\n"
          ],
          "name": "stdout"
        }
      ]
    },
    {
      "cell_type": "code",
      "metadata": {
        "id": "faIYn4brNtDi",
        "colab_type": "code",
        "colab": {
          "base_uri": "https://localhost:8080/",
          "height": 459
        },
        "outputId": "85dfefec-0324-40ba-c5b1-dda9daca8049"
      },
      "source": [
        "!pip install git+git://github.com/gumpy-bci/gumpy.git"
      ],
      "execution_count": 9,
      "outputs": [
        {
          "output_type": "stream",
          "text": [
            "Collecting git+git://github.com/gumpy-bci/gumpy.git\n",
            "  Cloning git://github.com/gumpy-bci/gumpy.git to /tmp/pip-req-build-s3x3l6vq\n",
            "  Running command git clone -q git://github.com/gumpy-bci/gumpy.git /tmp/pip-req-build-s3x3l6vq\n",
            "Requirement already satisfied: numpy in /usr/local/lib/python3.6/dist-packages (from gumpy==0.5.0) (1.17.3)\n",
            "Requirement already satisfied: scipy in /usr/local/lib/python3.6/dist-packages (from gumpy==0.5.0) (1.3.1)\n",
            "Requirement already satisfied: scikit-learn in /usr/local/lib/python3.6/dist-packages (from gumpy==0.5.0) (0.21.3)\n",
            "Requirement already satisfied: seaborn in /usr/local/lib/python3.6/dist-packages (from gumpy==0.5.0) (0.9.0)\n",
            "Requirement already satisfied: pandas in /usr/local/lib/python3.6/dist-packages (from gumpy==0.5.0) (0.25.2)\n",
            "Requirement already satisfied: PyWavelets in /usr/local/lib/python3.6/dist-packages (from gumpy==0.5.0) (1.1.1)\n",
            "Requirement already satisfied: mlxtend in /usr/local/lib/python3.6/dist-packages (from gumpy==0.5.0) (0.14.0)\n",
            "Requirement already satisfied: joblib>=0.11 in /usr/local/lib/python3.6/dist-packages (from scikit-learn->gumpy==0.5.0) (0.14.0)\n",
            "Requirement already satisfied: matplotlib>=1.4.3 in /usr/local/lib/python3.6/dist-packages (from seaborn->gumpy==0.5.0) (3.1.1)\n",
            "Requirement already satisfied: pytz>=2017.2 in /usr/local/lib/python3.6/dist-packages (from pandas->gumpy==0.5.0) (2018.9)\n",
            "Requirement already satisfied: python-dateutil>=2.6.1 in /usr/local/lib/python3.6/dist-packages (from pandas->gumpy==0.5.0) (2.6.1)\n",
            "Requirement already satisfied: setuptools in /usr/local/lib/python3.6/dist-packages (from mlxtend->gumpy==0.5.0) (41.4.0)\n",
            "Requirement already satisfied: cycler>=0.10 in /usr/local/lib/python3.6/dist-packages (from matplotlib>=1.4.3->seaborn->gumpy==0.5.0) (0.10.0)\n",
            "Requirement already satisfied: pyparsing!=2.0.4,!=2.1.2,!=2.1.6,>=2.0.1 in /usr/local/lib/python3.6/dist-packages (from matplotlib>=1.4.3->seaborn->gumpy==0.5.0) (2.4.2)\n",
            "Requirement already satisfied: kiwisolver>=1.0.1 in /usr/local/lib/python3.6/dist-packages (from matplotlib>=1.4.3->seaborn->gumpy==0.5.0) (1.1.0)\n",
            "Requirement already satisfied: six>=1.5 in /usr/local/lib/python3.6/dist-packages (from python-dateutil>=2.6.1->pandas->gumpy==0.5.0) (1.12.0)\n",
            "Building wheels for collected packages: gumpy\n",
            "  Building wheel for gumpy (setup.py) ... \u001b[?25l\u001b[?25hdone\n",
            "  Created wheel for gumpy: filename=gumpy-0.5.0-cp36-none-any.whl size=32999 sha256=c8422d2c0467f3ecb35dabc0b0a78440e5faf24eb5c6bac8b058cd03ec9217ce\n",
            "  Stored in directory: /tmp/pip-ephem-wheel-cache-_6_4matc/wheels/cf/ee/4d/dfa04a0d04ffb1ca36f436f3fef4817e9e23bfec03dd772913\n",
            "Successfully built gumpy\n",
            "Installing collected packages: gumpy\n",
            "Successfully installed gumpy-0.5.0\n"
          ],
          "name": "stdout"
        }
      ]
    },
    {
      "cell_type": "code",
      "metadata": {
        "id": "d7hlN_WmzAde",
        "colab_type": "code",
        "colab": {}
      },
      "source": [
        "from __future__ import print_function\n",
        "import os; os.environ[\"THEANO_FLAGS\"] = \"device=gpu0\"\n",
        "import os.path\n",
        "from datetime import datetime\n",
        "import sys\n",
        "sys.path.append('../../gumpy')\n",
        "\n",
        "import numpy as np\n",
        "import scipy.io\n",
        "import matplotlib.pyplot as plt\n",
        "\n",
        "sys.path.append('eeg-294/gumpy/gumpy')\n",
        "import gumpy"
      ],
      "execution_count": 0,
      "outputs": []
    },
    {
      "cell_type": "code",
      "metadata": {
        "id": "zHqT5dEp5ggF",
        "colab_type": "code",
        "colab": {}
      },
      "source": [
        "sys.path.append('eeg-294/gumpy-deeplearning')\n",
        "import models"
      ],
      "execution_count": 0,
      "outputs": []
    },
    {
      "cell_type": "code",
      "metadata": {
        "id": "9ysjxcwnOZXd",
        "colab_type": "code",
        "colab": {
          "base_uri": "https://localhost:8080/",
          "height": 71
        },
        "outputId": "1ea02f35-1e9a-40e1-e896-ef962f256242"
      },
      "source": [
        "sys.path.append('eeg-294/gumpy-deeplearning/models/')\n",
        "import utils"
      ],
      "execution_count": 11,
      "outputs": [
        {
          "output_type": "stream",
          "text": [
            "/usr/local/lib/python3.6/dist-packages/sklearn/externals/joblib/__init__.py:15: DeprecationWarning: sklearn.externals.joblib is deprecated in 0.21 and will be removed in 0.23. Please import this functionality directly from joblib, which can be installed with: pip install joblib. If this warning is raised when loading pickled models, you may need to re-serialize those models with scikit-learn 0.21+.\n",
            "  warnings.warn(msg, category=DeprecationWarning)\n"
          ],
          "name": "stderr"
        }
      ]
    },
    {
      "cell_type": "code",
      "metadata": {
        "id": "_4yDMTzqTWA4",
        "colab_type": "code",
        "colab": {}
      },
      "source": [
        "DEBUG = True\n",
        "CLASS_COUNT = 2\n",
        "DROPOUT = 0.2   # dropout rate in float\n",
        "\n",
        "# parameters for filtering data\n",
        "FS = 250\n",
        "LOWCUT = 2\n",
        "HIGHCUT = 60\n",
        "ANTI_DRIFT = 0.5\n",
        "CUTOFF = 50.0 # freq to be removed from signal (Hz) for notch filter\n",
        "Q = 30.0  # quality factor for notch filter \n",
        "W0 = CUTOFF/(FS/2)\n",
        "AXIS = 0\n",
        "\n",
        "#set random seed\n",
        "SEED = 42\n",
        "KFOLD = 5"
      ],
      "execution_count": 0,
      "outputs": []
    },
    {
      "cell_type": "code",
      "metadata": {
        "id": "qE7Ig18qT5Zo",
        "colab_type": "code",
        "colab": {
          "base_uri": "https://localhost:8080/",
          "height": 129
        },
        "outputId": "264b81ea-26c3-4df2-cb89-9e76bc23c52b"
      },
      "source": [
        "wget https://www.dropbox.com/sh/vkviczhx8ovy51s/AACFBeqSQNPBkX__kqvF-lEza?dl=1"
      ],
      "execution_count": 18,
      "outputs": [
        {
          "output_type": "error",
          "ename": "SyntaxError",
          "evalue": "ignored",
          "traceback": [
            "\u001b[0;36m  File \u001b[0;32m\"<ipython-input-18-c60e05cdda0e>\"\u001b[0;36m, line \u001b[0;32m1\u001b[0m\n\u001b[0;31m    wget https://www.dropbox.com/sh/vkviczhx8ovy51s/AACFBeqSQNPBkX__kqvF-lEza?dl=1\u001b[0m\n\u001b[0m             ^\u001b[0m\n\u001b[0;31mSyntaxError\u001b[0m\u001b[0;31m:\u001b[0m invalid syntax\n"
          ]
        }
      ]
    },
    {
      "cell_type": "code",
      "metadata": {
        "id": "XVIih1ubUxOn",
        "colab_type": "code",
        "colab": {}
      },
      "source": [
        ""
      ],
      "execution_count": 0,
      "outputs": []
    },
    {
      "cell_type": "code",
      "metadata": {
        "id": "H2zj4PgFTXJ7",
        "colab_type": "code",
        "colab": {
          "base_uri": "https://localhost:8080/",
          "height": 350
        },
        "outputId": "0ae6eaf2-6a8f-4d7f-ee6a-fe48f8744111"
      },
      "source": [
        "sys.path.append('eeg-294/gumpy/gumpy')\n",
        "# specify the location of the GrazB datasets\n",
        "data_dir = '../../Data/Graz'\n",
        "subject = 'B01'\n",
        "\n",
        "# initialize the data-structure, but do _not_ load the data yet\n",
        "grazb_data = gumpy.data.GrazB(data_dir, subject)\n",
        "\n",
        "# now that the dataset is setup, we can load the data. This will be handled from within the utils function, \n",
        "# which will first load the data and subsequently filter it using a notch and a bandpass filter.\n",
        "# the utility function will then return the training data.\n",
        "x_train, y_train = utils.load_preprocess_data(grazb_data, True, LOWCUT, HIGHCUT, W0, Q, ANTI_DRIFT, CLASS_COUNT, CUTOFF, AXIS, FS)"
      ],
      "execution_count": 17,
      "outputs": [
        {
          "output_type": "error",
          "ename": "DatasetError",
          "evalue": "ignored",
          "traceback": [
            "\u001b[0;31m---------------------------------------------------------------------------\u001b[0m",
            "\u001b[0;31mDatasetError\u001b[0m                              Traceback (most recent call last)",
            "\u001b[0;32m<ipython-input-17-6367fd1788fd>\u001b[0m in \u001b[0;36m<module>\u001b[0;34m()\u001b[0m\n\u001b[1;32m      5\u001b[0m \u001b[0;34m\u001b[0m\u001b[0m\n\u001b[1;32m      6\u001b[0m \u001b[0;31m# initialize the data-structure, but do _not_ load the data yet\u001b[0m\u001b[0;34m\u001b[0m\u001b[0;34m\u001b[0m\u001b[0;34m\u001b[0m\u001b[0m\n\u001b[0;32m----> 7\u001b[0;31m \u001b[0mgrazb_data\u001b[0m \u001b[0;34m=\u001b[0m \u001b[0mgumpy\u001b[0m\u001b[0;34m.\u001b[0m\u001b[0mdata\u001b[0m\u001b[0;34m.\u001b[0m\u001b[0mGrazB\u001b[0m\u001b[0;34m(\u001b[0m\u001b[0mdata_dir\u001b[0m\u001b[0;34m,\u001b[0m \u001b[0msubject\u001b[0m\u001b[0;34m)\u001b[0m\u001b[0;34m\u001b[0m\u001b[0;34m\u001b[0m\u001b[0m\n\u001b[0m\u001b[1;32m      8\u001b[0m \u001b[0;34m\u001b[0m\u001b[0m\n\u001b[1;32m      9\u001b[0m \u001b[0;31m# now that the dataset is setup, we can load the data. This will be handled from within the utils function,\u001b[0m\u001b[0;34m\u001b[0m\u001b[0;34m\u001b[0m\u001b[0;34m\u001b[0m\u001b[0m\n",
            "\u001b[0;32m/usr/local/lib/python3.6/dist-packages/gumpy/data/graz.py\u001b[0m in \u001b[0;36m__init__\u001b[0;34m(self, base_dir, identifier, **kwargs)\u001b[0m\n\u001b[1;32m     50\u001b[0m         \u001b[0;32mfor\u001b[0m \u001b[0mf\u001b[0m \u001b[0;32min\u001b[0m \u001b[0;34m[\u001b[0m\u001b[0mself\u001b[0m\u001b[0;34m.\u001b[0m\u001b[0mfT\u001b[0m\u001b[0;34m,\u001b[0m \u001b[0mself\u001b[0m\u001b[0;34m.\u001b[0m\u001b[0mfE\u001b[0m\u001b[0;34m]\u001b[0m\u001b[0;34m:\u001b[0m\u001b[0;34m\u001b[0m\u001b[0;34m\u001b[0m\u001b[0m\n\u001b[1;32m     51\u001b[0m             \u001b[0;32mif\u001b[0m \u001b[0;32mnot\u001b[0m \u001b[0mos\u001b[0m\u001b[0;34m.\u001b[0m\u001b[0mpath\u001b[0m\u001b[0;34m.\u001b[0m\u001b[0misfile\u001b[0m\u001b[0;34m(\u001b[0m\u001b[0mf\u001b[0m\u001b[0;34m)\u001b[0m\u001b[0;34m:\u001b[0m\u001b[0;34m\u001b[0m\u001b[0;34m\u001b[0m\u001b[0m\n\u001b[0;32m---> 52\u001b[0;31m                 \u001b[0;32mraise\u001b[0m \u001b[0mDatasetError\u001b[0m\u001b[0;34m(\u001b[0m\u001b[0;34m\"GrazB Dataset ({id}) file '{f}' unavailable\"\u001b[0m\u001b[0;34m.\u001b[0m\u001b[0mformat\u001b[0m\u001b[0;34m(\u001b[0m\u001b[0mid\u001b[0m\u001b[0;34m=\u001b[0m\u001b[0mself\u001b[0m\u001b[0;34m.\u001b[0m\u001b[0mdata_id\u001b[0m\u001b[0;34m,\u001b[0m \u001b[0mf\u001b[0m\u001b[0;34m=\u001b[0m\u001b[0mf\u001b[0m\u001b[0;34m)\u001b[0m\u001b[0;34m)\u001b[0m\u001b[0;34m\u001b[0m\u001b[0;34m\u001b[0m\u001b[0m\n\u001b[0m\u001b[1;32m     53\u001b[0m \u001b[0;34m\u001b[0m\u001b[0m\n\u001b[1;32m     54\u001b[0m         \u001b[0;31m# variables to store data\u001b[0m\u001b[0;34m\u001b[0m\u001b[0;34m\u001b[0m\u001b[0;34m\u001b[0m\u001b[0m\n",
            "\u001b[0;31mDatasetError\u001b[0m: GrazB Dataset (B01) file '../../Data/Graz/B01T.mat' unavailable"
          ]
        }
      ]
    }
  ]
}