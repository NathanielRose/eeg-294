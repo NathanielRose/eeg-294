{
  "nbformat": 4,
  "nbformat_minor": 0,
  "metadata": {
    "colab": {
      "name": "Untitled4.ipynb",
      "provenance": [],
      "include_colab_link": true
    },
    "kernelspec": {
      "name": "python3",
      "display_name": "Python 3"
    }
  },
  "cells": [
    {
      "cell_type": "markdown",
      "metadata": {
        "id": "view-in-github",
        "colab_type": "text"
      },
      "source": [
        "<a href=\"https://colab.research.google.com/github/NathanielRose/eeg-294/blob/master/Gumpy-Testing.ipynb\" target=\"_parent\"><img src=\"https://colab.research.google.com/assets/colab-badge.svg\" alt=\"Open In Colab\"/></a>"
      ]
    },
    {
      "cell_type": "markdown",
      "metadata": {
        "id": "g8q58HqCy158",
        "colab_type": "text"
      },
      "source": [
        "**Testing for EEG | ML 294**"
      ]
    },
    {
      "cell_type": "code",
      "metadata": {
        "id": "Kp7bugOa316u",
        "colab_type": "code",
        "outputId": "c91a5066-b1c0-4edd-ea10-3590438cee96",
        "colab": {
          "base_uri": "https://localhost:8080/",
          "height": 799
        }
      },
      "source": [
        "!pip install gumpy numpy scipy matplotlib"
      ],
      "execution_count": 1,
      "outputs": [
        {
          "output_type": "stream",
          "text": [
            "Collecting gumpy\n",
            "\u001b[?25l  Downloading https://files.pythonhosted.org/packages/d8/41/4a43289f78b2b2bc8faac7cce8fefc414932d3adbe7df90835faec182524/gumpy-0.1-py3-none-any.whl (3.0MB)\n",
            "\u001b[K     |████████████████████████████████| 3.0MB 2.9MB/s \n",
            "\u001b[?25hRequirement already satisfied: numpy in /usr/local/lib/python3.6/dist-packages (1.17.3)\n",
            "Requirement already satisfied: scipy in /usr/local/lib/python3.6/dist-packages (1.3.1)\n",
            "Requirement already satisfied: matplotlib in /usr/local/lib/python3.6/dist-packages (3.1.1)\n",
            "Collecting Biopython>=1.70\n",
            "\u001b[?25l  Downloading https://files.pythonhosted.org/packages/ed/77/de3ba8f3d3015455f5df859c082729198ee6732deaeb4b87b9cfbfbaafe3/biopython-1.74-cp36-cp36m-manylinux1_x86_64.whl (2.2MB)\n",
            "\u001b[K     |████████████████████████████████| 2.2MB 40.2MB/s \n",
            "\u001b[?25hCollecting pysam>=0.15.2\n",
            "\u001b[?25l  Downloading https://files.pythonhosted.org/packages/15/e7/2dab8bb0ac739555e69586f1492f0ff6bc4a1f8312992a83001d3deb77ac/pysam-0.15.3.tar.gz (3.2MB)\n",
            "\u001b[K     |████████████████████████████████| 3.2MB 37.3MB/s \n",
            "\u001b[?25hCollecting pytest>=4.0.0\n",
            "\u001b[?25l  Downloading https://files.pythonhosted.org/packages/93/16/f6dec5178f5f4141e80dfc4812a9aba88f5f29ca881f174ab1851181d016/pytest-5.2.2-py3-none-any.whl (227kB)\n",
            "\u001b[K     |████████████████████████████████| 235kB 37.7MB/s \n",
            "\u001b[?25hRequirement already satisfied: tqdm>=4.19.5 in /usr/local/lib/python3.6/dist-packages (from gumpy) (4.28.1)\n",
            "Requirement already satisfied: python-dateutil>=2.1 in /usr/local/lib/python3.6/dist-packages (from matplotlib) (2.6.1)\n",
            "Requirement already satisfied: cycler>=0.10 in /usr/local/lib/python3.6/dist-packages (from matplotlib) (0.10.0)\n",
            "Requirement already satisfied: kiwisolver>=1.0.1 in /usr/local/lib/python3.6/dist-packages (from matplotlib) (1.1.0)\n",
            "Requirement already satisfied: pyparsing!=2.0.4,!=2.1.2,!=2.1.6,>=2.0.1 in /usr/local/lib/python3.6/dist-packages (from matplotlib) (2.4.2)\n",
            "Collecting pluggy<1.0,>=0.12\n",
            "  Downloading https://files.pythonhosted.org/packages/92/c7/48439f7d5fd6bddb4c04b850bb862b42e3e2b98570040dfaf68aedd8114b/pluggy-0.13.0-py2.py3-none-any.whl\n",
            "Requirement already satisfied: wcwidth in /usr/local/lib/python3.6/dist-packages (from pytest>=4.0.0->gumpy) (0.1.7)\n",
            "Requirement already satisfied: attrs>=17.4.0 in /usr/local/lib/python3.6/dist-packages (from pytest>=4.0.0->gumpy) (19.3.0)\n",
            "Requirement already satisfied: atomicwrites>=1.0 in /usr/local/lib/python3.6/dist-packages (from pytest>=4.0.0->gumpy) (1.3.0)\n",
            "Requirement already satisfied: packaging in /usr/local/lib/python3.6/dist-packages (from pytest>=4.0.0->gumpy) (19.2)\n",
            "Requirement already satisfied: importlib-metadata>=0.12; python_version < \"3.8\" in /usr/local/lib/python3.6/dist-packages (from pytest>=4.0.0->gumpy) (0.23)\n",
            "Requirement already satisfied: more-itertools>=4.0.0 in /usr/local/lib/python3.6/dist-packages (from pytest>=4.0.0->gumpy) (7.2.0)\n",
            "Requirement already satisfied: py>=1.5.0 in /usr/local/lib/python3.6/dist-packages (from pytest>=4.0.0->gumpy) (1.8.0)\n",
            "Requirement already satisfied: six>=1.5 in /usr/local/lib/python3.6/dist-packages (from python-dateutil>=2.1->matplotlib) (1.12.0)\n",
            "Requirement already satisfied: setuptools in /usr/local/lib/python3.6/dist-packages (from kiwisolver>=1.0.1->matplotlib) (41.4.0)\n",
            "Requirement already satisfied: zipp>=0.5 in /usr/local/lib/python3.6/dist-packages (from importlib-metadata>=0.12; python_version < \"3.8\"->pytest>=4.0.0->gumpy) (0.6.0)\n",
            "Building wheels for collected packages: pysam\n",
            "  Building wheel for pysam (setup.py) ... \u001b[?25l\u001b[?25hdone\n",
            "  Created wheel for pysam: filename=pysam-0.15.3-cp36-cp36m-linux_x86_64.whl size=8791758 sha256=4f33ead33f05e9536dae2bef54ae5738ec5115f67f9a5eab936847dc940b2b56\n",
            "  Stored in directory: /root/.cache/pip/wheels/85/ab/84/86ca6dda37a6fc85687b67be7345b735cd82f6584bea56f327\n",
            "Successfully built pysam\n",
            "\u001b[31mERROR: datascience 0.10.6 has requirement folium==0.2.1, but you'll have folium 0.8.3 which is incompatible.\u001b[0m\n",
            "Installing collected packages: Biopython, pysam, pluggy, pytest, gumpy\n",
            "  Found existing installation: pluggy 0.7.1\n",
            "    Uninstalling pluggy-0.7.1:\n",
            "      Successfully uninstalled pluggy-0.7.1\n",
            "  Found existing installation: pytest 3.6.4\n",
            "    Uninstalling pytest-3.6.4:\n",
            "      Successfully uninstalled pytest-3.6.4\n",
            "Successfully installed Biopython-1.74 gumpy-0.1 pluggy-0.13.0 pysam-0.15.3 pytest-5.2.2\n"
          ],
          "name": "stdout"
        }
      ]
    },
    {
      "cell_type": "code",
      "metadata": {
        "id": "d7hlN_WmzAde",
        "colab_type": "code",
        "colab": {}
      },
      "source": [
        "from __future__ import print_function\n",
        "import os; os.environ[\"THEANO_FLAGS\"] = \"device=gpu0\"\n",
        "import os.path\n",
        "from datetime import datetime\n",
        "import sys\n",
        "sys.path.append('../../gumpy')\n",
        "\n",
        "import gumpy\n",
        "import numpy as np\n",
        "import scipy.io\n",
        "import matplotlib.pyplot as plt"
      ],
      "execution_count": 0,
      "outputs": []
    },
    {
      "cell_type": "code",
      "metadata": {
        "id": "faIYn4brNtDi",
        "colab_type": "code",
        "colab": {
          "base_uri": "https://localhost:8080/",
          "height": 119
        },
        "outputId": "fff4b325-caef-4dc4-d24a-566563cd7bf1"
      },
      "source": [
        "!git clone https://github.com/NathanielRose/eeg-294.git"
      ],
      "execution_count": 25,
      "outputs": [
        {
          "output_type": "stream",
          "text": [
            "Cloning into 'eeg-294'...\n",
            "remote: Enumerating objects: 53, done.\u001b[K\n",
            "remote: Counting objects:   1% (1/53)\u001b[K\rremote: Counting objects:   3% (2/53)\u001b[K\rremote: Counting objects:   5% (3/53)\u001b[K\rremote: Counting objects:   7% (4/53)\u001b[K\rremote: Counting objects:   9% (5/53)\u001b[K\rremote: Counting objects:  11% (6/53)\u001b[K\rremote: Counting objects:  13% (7/53)\u001b[K\rremote: Counting objects:  15% (8/53)\u001b[K\rremote: Counting objects:  16% (9/53)\u001b[K\rremote: Counting objects:  18% (10/53)\u001b[K\rremote: Counting objects:  20% (11/53)\u001b[K\rremote: Counting objects:  22% (12/53)\u001b[K\rremote: Counting objects:  24% (13/53)\u001b[K\rremote: Counting objects:  26% (14/53)\u001b[K\rremote: Counting objects:  28% (15/53)\u001b[K\rremote: Counting objects:  30% (16/53)\u001b[K\rremote: Counting objects:  32% (17/53)\u001b[K\rremote: Counting objects:  33% (18/53)\u001b[K\rremote: Counting objects:  35% (19/53)\u001b[K\rremote: Counting objects:  37% (20/53)\u001b[K\rremote: Counting objects:  39% (21/53)\u001b[K\rremote: Counting objects:  41% (22/53)\u001b[K\rremote: Counting objects:  43% (23/53)\u001b[K\rremote: Counting objects:  45% (24/53)\u001b[K\rremote: Counting objects:  47% (25/53)\u001b[K\rremote: Counting objects:  49% (26/53)\u001b[K\rremote: Counting objects:  50% (27/53)\u001b[K\rremote: Counting objects:  52% (28/53)\u001b[K\rremote: Counting objects:  54% (29/53)\u001b[K\rremote: Counting objects:  56% (30/53)\u001b[K\rremote: Counting objects:  58% (31/53)\u001b[K\rremote: Counting objects:  60% (32/53)\u001b[K\rremote: Counting objects:  62% (33/53)\u001b[K\rremote: Counting objects:  64% (34/53)\u001b[K\rremote: Counting objects:  66% (35/53)\u001b[K\rremote: Counting objects:  67% (36/53)\u001b[K\rremote: Counting objects:  69% (37/53)\u001b[K\rremote: Counting objects:  71% (38/53)\u001b[K\rremote: Counting objects:  73% (39/53)\u001b[K\rremote: Counting objects:  75% (40/53)\u001b[K\rremote: Counting objects:  77% (41/53)\u001b[K\rremote: Counting objects:  79% (42/53)\u001b[K\rremote: Counting objects:  81% (43/53)\u001b[K\rremote: Counting objects:  83% (44/53)\u001b[K\rremote: Counting objects:  84% (45/53)\u001b[K\rremote: Counting objects:  86% (46/53)\u001b[K\rremote: Counting objects:  88% (47/53)\u001b[K\rremote: Counting objects:  90% (48/53)\u001b[K\rremote: Counting objects:  92% (49/53)\u001b[K\rremote: Counting objects:  94% (50/53)\u001b[K\rremote: Counting objects:  96% (51/53)\u001b[K\rremote: Counting objects:  98% (52/53)\u001b[K\rremote: Counting objects: 100% (53/53)\u001b[K\rremote: Counting objects: 100% (53/53), done.\u001b[K\n",
            "remote: Compressing objects:   2% (1/43)\u001b[K\rremote: Compressing objects:   4% (2/43)\u001b[K\rremote: Compressing objects:   6% (3/43)\u001b[K\rremote: Compressing objects:   9% (4/43)\u001b[K\rremote: Compressing objects:  11% (5/43)\u001b[K\rremote: Compressing objects:  13% (6/43)\u001b[K\rremote: Compressing objects:  16% (7/43)\u001b[K\rremote: Compressing objects:  18% (8/43)\u001b[K\rremote: Compressing objects:  20% (9/43)\u001b[K\rremote: Compressing objects:  23% (10/43)\u001b[K\rremote: Compressing objects:  25% (11/43)\u001b[K\rremote: Compressing objects:  27% (12/43)\u001b[K\rremote: Compressing objects:  30% (13/43)\u001b[K\rremote: Compressing objects:  32% (14/43)\u001b[K\rremote: Compressing objects:  34% (15/43)\u001b[K\rremote: Compressing objects:  37% (16/43)\u001b[K\rremote: Compressing objects:  39% (17/43)\u001b[K\rremote: Compressing objects:  41% (18/43)\u001b[K\rremote: Compressing objects:  44% (19/43)\u001b[K\rremote: Compressing objects:  46% (20/43)\u001b[K\rremote: Compressing objects:  48% (21/43)\u001b[K\rremote: Compressing objects:  51% (22/43)\u001b[K\rremote: Compressing objects:  53% (23/43)\u001b[K\rremote: Compressing objects:  55% (24/43)\u001b[K\rremote: Compressing objects:  58% (25/43)\u001b[K\rremote: Compressing objects:  60% (26/43)\u001b[K\rremote: Compressing objects:  62% (27/43)\u001b[K\rremote: Compressing objects:  65% (28/43)\u001b[K\rremote: Compressing objects:  67% (29/43)\u001b[K\rremote: Compressing objects:  69% (30/43)\u001b[K\rremote: Compressing objects:  72% (31/43)\u001b[K\rremote: Compressing objects:  74% (32/43)\u001b[K\rremote: Compressing objects:  76% (33/43)\u001b[K\rremote: Compressing objects:  79% (34/43)\u001b[K\rremote: Compressing objects:  81% (35/43)\u001b[K\rremote: Compressing objects:  83% (36/43)\u001b[K\rremote: Compressing objects:  86% (37/43)\u001b[K\rremote: Compressing objects:  88% (38/43)\u001b[K\rremote: Compressing objects:  90% (39/43)\u001b[K\rremote: Compressing objects:  93% (40/43)\u001b[K\rremote: Compressing objects:  95% (41/43)\u001b[K\rremote: Compressing objects:  97% (42/43)\u001b[K\rremote: Compressing objects: 100% (43/43)\u001b[K\rremote: Compressing objects: 100% (43/43), done.\u001b[K\n",
            "remote: Total 53 (delta 16), reused 41 (delta 7), pack-reused 0\u001b[K\n",
            "Unpacking objects:   1% (1/53)   \rUnpacking objects:   3% (2/53)   \rUnpacking objects:   5% (3/53)   \rUnpacking objects:   7% (4/53)   \rUnpacking objects:   9% (5/53)   \rUnpacking objects:  11% (6/53)   \rUnpacking objects:  13% (7/53)   \rUnpacking objects:  15% (8/53)   \rUnpacking objects:  16% (9/53)   \rUnpacking objects:  18% (10/53)   \rUnpacking objects:  20% (11/53)   \rUnpacking objects:  22% (12/53)   \rUnpacking objects:  24% (13/53)   \rUnpacking objects:  26% (14/53)   \rUnpacking objects:  28% (15/53)   \rUnpacking objects:  30% (16/53)   \rUnpacking objects:  32% (17/53)   \rUnpacking objects:  33% (18/53)   \rUnpacking objects:  35% (19/53)   \rUnpacking objects:  37% (20/53)   \rUnpacking objects:  39% (21/53)   \rUnpacking objects:  41% (22/53)   \rUnpacking objects:  43% (23/53)   \rUnpacking objects:  45% (24/53)   \rUnpacking objects:  47% (25/53)   \rUnpacking objects:  49% (26/53)   \rUnpacking objects:  50% (27/53)   \rUnpacking objects:  52% (28/53)   \rUnpacking objects:  54% (29/53)   \rUnpacking objects:  56% (30/53)   \rUnpacking objects:  58% (31/53)   \rUnpacking objects:  60% (32/53)   \rUnpacking objects:  62% (33/53)   \rUnpacking objects:  64% (34/53)   \rUnpacking objects:  66% (35/53)   \rUnpacking objects:  67% (36/53)   \rUnpacking objects:  69% (37/53)   \rUnpacking objects:  71% (38/53)   \rUnpacking objects:  73% (39/53)   \rUnpacking objects:  75% (40/53)   \rUnpacking objects:  77% (41/53)   \rUnpacking objects:  79% (42/53)   \rUnpacking objects:  81% (43/53)   \rUnpacking objects:  83% (44/53)   \rUnpacking objects:  84% (45/53)   \rUnpacking objects:  86% (46/53)   \rUnpacking objects:  88% (47/53)   \rUnpacking objects:  90% (48/53)   \rUnpacking objects:  92% (49/53)   \rUnpacking objects:  94% (50/53)   \rUnpacking objects:  96% (51/53)   \rUnpacking objects:  98% (52/53)   \rUnpacking objects: 100% (53/53)   \rUnpacking objects: 100% (53/53), done.\n"
          ],
          "name": "stdout"
        }
      ]
    },
    {
      "cell_type": "code",
      "metadata": {
        "id": "zHqT5dEp5ggF",
        "colab_type": "code",
        "outputId": "4bd6a5cb-6d63-4886-bd76-08a88b453a9f",
        "colab": {
          "base_uri": "https://localhost:8080/",
          "height": 80
        }
      },
      "source": [
        "sys.path.append('eeg-294/gumpy-deeplearning')\n",
        "import models"
      ],
      "execution_count": 26,
      "outputs": [
        {
          "output_type": "stream",
          "text": [
            "Using TensorFlow backend.\n"
          ],
          "name": "stderr"
        },
        {
          "output_type": "display_data",
          "data": {
            "text/html": [
              "<p style=\"color: red;\">\n",
              "The default version of TensorFlow in Colab will soon switch to TensorFlow 2.x.<br>\n",
              "We recommend you <a href=\"https://www.tensorflow.org/guide/migrate\" target=\"_blank\">upgrade</a> now \n",
              "or ensure your notebook will continue to use TensorFlow 1.x via the <code>%tensorflow_version 1.x</code> magic:\n",
              "<a href=\"https://colab.research.google.com/notebooks/tensorflow_version.ipynb\" target=\"_blank\">more info</a>.</p>\n"
            ],
            "text/plain": [
              "<IPython.core.display.HTML object>"
            ]
          },
          "metadata": {
            "tags": []
          }
        }
      ]
    },
    {
      "cell_type": "code",
      "metadata": {
        "id": "9ysjxcwnOZXd",
        "colab_type": "code",
        "colab": {
          "base_uri": "https://localhost:8080/",
          "height": 350
        },
        "outputId": "bc102692-5033-468a-a560-b1b93c76ce99"
      },
      "source": [
        "sys.path.append('eeg-294/gumpy-deeplearning/models')\n",
        "import utils\n",
        "utils.print_version_info()"
      ],
      "execution_count": 29,
      "outputs": [
        {
          "output_type": "stream",
          "text": [
            "2019/10/30\n",
            "Keras version: 2.2.5\n"
          ],
          "name": "stdout"
        },
        {
          "output_type": "error",
          "ename": "AttributeError",
          "evalue": "ignored",
          "traceback": [
            "\u001b[0;31m---------------------------------------------------------------------------\u001b[0m",
            "\u001b[0;31mAttributeError\u001b[0m                            Traceback (most recent call last)",
            "\u001b[0;32m<ipython-input-29-aaa58daa340d>\u001b[0m in \u001b[0;36m<module>\u001b[0;34m()\u001b[0m\n\u001b[1;32m      1\u001b[0m \u001b[0msys\u001b[0m\u001b[0;34m.\u001b[0m\u001b[0mpath\u001b[0m\u001b[0;34m.\u001b[0m\u001b[0mappend\u001b[0m\u001b[0;34m(\u001b[0m\u001b[0;34m'eeg-294/gumpy-deeplearning/models'\u001b[0m\u001b[0;34m)\u001b[0m\u001b[0;34m\u001b[0m\u001b[0;34m\u001b[0m\u001b[0m\n\u001b[1;32m      2\u001b[0m \u001b[0;32mimport\u001b[0m \u001b[0mutils\u001b[0m\u001b[0;34m\u001b[0m\u001b[0;34m\u001b[0m\u001b[0m\n\u001b[0;32m----> 3\u001b[0;31m \u001b[0mutils\u001b[0m\u001b[0;34m.\u001b[0m\u001b[0mprint_version_info\u001b[0m\u001b[0;34m(\u001b[0m\u001b[0;34m)\u001b[0m\u001b[0;34m\u001b[0m\u001b[0;34m\u001b[0m\u001b[0m\n\u001b[0m",
            "\u001b[0;32m/content/eeg-294/gumpy-deeplearning/models/utils.py\u001b[0m in \u001b[0;36mprint_version_info\u001b[0;34m()\u001b[0m\n\u001b[1;32m     48\u001b[0m     \u001b[0mprint\u001b[0m\u001b[0;34m(\u001b[0m\u001b[0;34m'%s/%s/%s'\u001b[0m \u001b[0;34m%\u001b[0m \u001b[0;34m(\u001b[0m\u001b[0mnow\u001b[0m\u001b[0;34m.\u001b[0m\u001b[0myear\u001b[0m\u001b[0;34m,\u001b[0m \u001b[0mnow\u001b[0m\u001b[0;34m.\u001b[0m\u001b[0mmonth\u001b[0m\u001b[0;34m,\u001b[0m \u001b[0mnow\u001b[0m\u001b[0;34m.\u001b[0m\u001b[0mday\u001b[0m\u001b[0;34m)\u001b[0m\u001b[0;34m)\u001b[0m\u001b[0;34m\u001b[0m\u001b[0;34m\u001b[0m\u001b[0m\n\u001b[1;32m     49\u001b[0m     \u001b[0mprint\u001b[0m\u001b[0;34m(\u001b[0m\u001b[0;34m'Keras version: {}'\u001b[0m\u001b[0;34m.\u001b[0m\u001b[0mformat\u001b[0m\u001b[0;34m(\u001b[0m\u001b[0mkeras\u001b[0m\u001b[0;34m.\u001b[0m\u001b[0m__version__\u001b[0m\u001b[0;34m)\u001b[0m\u001b[0;34m)\u001b[0m\u001b[0;34m\u001b[0m\u001b[0;34m\u001b[0m\u001b[0m\n\u001b[0;32m---> 50\u001b[0;31m     \u001b[0;32mif\u001b[0m \u001b[0mkeras\u001b[0m\u001b[0;34m.\u001b[0m\u001b[0mbackend\u001b[0m\u001b[0;34m.\u001b[0m\u001b[0m_BACKEND\u001b[0m \u001b[0;34m==\u001b[0m \u001b[0;34m'tensorflow'\u001b[0m\u001b[0;34m:\u001b[0m\u001b[0;34m\u001b[0m\u001b[0;34m\u001b[0m\u001b[0m\n\u001b[0m\u001b[1;32m     51\u001b[0m         \u001b[0;32mimport\u001b[0m \u001b[0mtensorflow\u001b[0m\u001b[0;34m\u001b[0m\u001b[0;34m\u001b[0m\u001b[0m\n\u001b[1;32m     52\u001b[0m         \u001b[0mprint\u001b[0m\u001b[0;34m(\u001b[0m\u001b[0;34m'Keras backend: {}: {}'\u001b[0m\u001b[0;34m.\u001b[0m\u001b[0mformat\u001b[0m\u001b[0;34m(\u001b[0m\u001b[0mkeras\u001b[0m\u001b[0;34m.\u001b[0m\u001b[0mbackend\u001b[0m\u001b[0;34m.\u001b[0m\u001b[0m_backend\u001b[0m\u001b[0;34m,\u001b[0m \u001b[0mtensorflow\u001b[0m\u001b[0;34m.\u001b[0m\u001b[0m__version__\u001b[0m\u001b[0;34m)\u001b[0m\u001b[0;34m)\u001b[0m\u001b[0;34m\u001b[0m\u001b[0;34m\u001b[0m\u001b[0m\n",
            "\u001b[0;31mAttributeError\u001b[0m: module 'keras.backend' has no attribute '_BACKEND'"
          ]
        }
      ]
    }
  ]
}