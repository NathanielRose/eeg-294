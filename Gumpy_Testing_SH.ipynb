{
  "nbformat": 4,
  "nbformat_minor": 0,
  "metadata": {
    "colab": {
      "name": "Gumpy-Testing-SH.ipynb",
      "provenance": [],
      "collapsed_sections": [],
      "include_colab_link": true
    },
    "kernelspec": {
      "display_name": "Python 3",
      "language": "python",
      "name": "python3"
    },
    "language_info": {
      "codemirror_mode": {
        "name": "ipython",
        "version": 3
      },
      "file_extension": ".py",
      "mimetype": "text/x-python",
      "name": "python",
      "nbconvert_exporter": "python",
      "pygments_lexer": "ipython3",
      "version": "3.6.9"
    },
    "toc": {
      "base_numbering": 1,
      "nav_menu": {},
      "number_sections": true,
      "sideBar": true,
      "skip_h1_title": false,
      "title_cell": "Table of Contents",
      "title_sidebar": "Contents",
      "toc_cell": false,
      "toc_position": {},
      "toc_section_display": true,
      "toc_window_display": true
    },
    "varInspector": {
      "cols": {
        "lenName": 16,
        "lenType": 16,
        "lenVar": 40
      },
      "kernels_config": {
        "python": {
          "delete_cmd_postfix": "",
          "delete_cmd_prefix": "del ",
          "library": "var_list.py",
          "varRefreshCmd": "print(var_dic_list())"
        },
        "r": {
          "delete_cmd_postfix": ") ",
          "delete_cmd_prefix": "rm(",
          "library": "var_list.r",
          "varRefreshCmd": "cat(var_dic_list()) "
        }
      },
      "types_to_exclude": [
        "module",
        "function",
        "builtin_function_or_method",
        "instance",
        "_Feature"
      ],
      "window_display": false
    }
  },
  "cells": [
    {
      "cell_type": "markdown",
      "metadata": {
        "id": "view-in-github",
        "colab_type": "text"
      },
      "source": [
        "<a href=\"https://colab.research.google.com/github/NathanielRose/eeg-294/blob/master/Gumpy_Testing_SH.ipynb\" target=\"_parent\"><img src=\"https://colab.research.google.com/assets/colab-badge.svg\" alt=\"Open In Colab\"/></a>"
      ]
    },
    {
      "cell_type": "markdown",
      "metadata": {
        "colab_type": "text",
        "id": "g8q58HqCy158"
      },
      "source": [
        "# Setup"
      ]
    },
    {
      "cell_type": "code",
      "metadata": {
        "id": "-2SKhDc_n4jj",
        "colab_type": "code",
        "colab": {
          "base_uri": "https://localhost:8080/",
          "height": 190
        },
        "outputId": "26616a1c-4bba-4f1d-d9e6-325f0e2ca845"
      },
      "source": [
        "!pip uninstall gumpy"
      ],
      "execution_count": 37,
      "outputs": [
        {
          "output_type": "stream",
          "text": [
            "Uninstalling gumpy-0.1:\n",
            "  Would remove:\n",
            "    /usr/local/bin/gumpy-save-genome.py\n",
            "    /usr/local/lib/python3.6/dist-packages/config/H37rV_v3.gbk\n",
            "    /usr/local/lib/python3.6/dist-packages/config/NC_004148.2.fasta.gz\n",
            "    /usr/local/lib/python3.6/dist-packages/config/NC_004148.2.gbk\n",
            "    /usr/local/lib/python3.6/dist-packages/gumpy-0.1.dist-info/*\n",
            "    /usr/local/lib/python3.6/dist-packages/gumpy/*\n",
            "Proceed (y/n)? y\n",
            "  Successfully uninstalled gumpy-0.1\n"
          ],
          "name": "stdout"
        }
      ]
    },
    {
      "cell_type": "code",
      "metadata": {
        "ExecuteTime": {
          "end_time": "2019-10-29T21:40:51.628320Z",
          "start_time": "2019-10-29T21:40:51.485058Z"
        },
        "colab_type": "code",
        "id": "d7hlN_WmzAde",
        "colab": {
          "base_uri": "https://localhost:8080/",
          "height": 34
        },
        "outputId": "3a6f88e5-917d-4157-df44-39d0f0489af2"
      },
      "source": [
        "%reset\n",
        "%matplotlib inline\n",
        "\n",
        "from __future__ import print_function\n",
        "import os; os.environ[\"THEANO_FLAGS\"] = \"device=gpu0\"\n",
        "import os.path\n",
        "from datetime import datetime\n",
        "import sys\n",
        "\n",
        "# import gumpy\n",
        "import numpy as np\n",
        "import scipy.io\n",
        "import matplotlib.pyplot as plt\n",
        "import pandas as pd"
      ],
      "execution_count": 49,
      "outputs": [
        {
          "output_type": "stream",
          "text": [
            "Once deleted, variables cannot be recovered. Proceed (y/[n])? y\n"
          ],
          "name": "stdout"
        }
      ]
    },
    {
      "cell_type": "code",
      "metadata": {
        "colab_type": "code",
        "id": "zHqT5dEp5ggF",
        "outputId": "41841f63-09c6-4b03-a0d0-8e635db1d60f",
        "colab": {
          "base_uri": "https://localhost:8080/",
          "height": 34
        }
      },
      "source": [
        "from google.colab import drive\n",
        "drive.mount('/content/drive', force_remount = True)\n"
      ],
      "execution_count": 50,
      "outputs": [
        {
          "output_type": "stream",
          "text": [
            "Mounted at /content/drive\n"
          ],
          "name": "stdout"
        }
      ]
    },
    {
      "cell_type": "code",
      "metadata": {
        "id": "Ts-cv0ebpRzF",
        "colab_type": "code",
        "colab": {}
      },
      "source": [
        "working_dir = '/content/drive/My Drive/Projects_Ongoing/classes_and_workshops/CS294-082/eeg-294/'\n",
        "sys.path.append(working_dir + 'gumpy-deeplearning')\n",
        "import models\n",
        "sys.path.append(working_dir + 'gumpy-models')\n",
        "import utils\n",
        "sys.path.append(working_dir + 'gumpy')\n",
        "import gumpy"
      ],
      "execution_count": 0,
      "outputs": []
    },
    {
      "cell_type": "markdown",
      "metadata": {
        "id": "jgcAxF9unteE",
        "colab_type": "text"
      },
      "source": [
        "# Get Data"
      ]
    },
    {
      "cell_type": "code",
      "metadata": {
        "id": "QpS_px4qnteF",
        "colab_type": "code",
        "colab": {}
      },
      "source": [
        "data_dir = working_dir + 'data/'\n",
        "subject = 's4'\n"
      ],
      "execution_count": 0,
      "outputs": []
    },
    {
      "cell_type": "code",
      "metadata": {
        "id": "J91vK8Iesptq",
        "colab_type": "code",
        "colab": {
          "base_uri": "https://localhost:8080/",
          "height": 166
        },
        "outputId": "9e83fe43-67ad-4e22-b2ec-df23e750895a"
      },
      "source": [
        "gumpy.signal"
      ],
      "execution_count": 54,
      "outputs": [
        {
          "output_type": "error",
          "ename": "AttributeError",
          "evalue": "ignored",
          "traceback": [
            "\u001b[0;31m---------------------------------------------------------------------------\u001b[0m",
            "\u001b[0;31mAttributeError\u001b[0m                            Traceback (most recent call last)",
            "\u001b[0;32m<ipython-input-54-d0f76f068af4>\u001b[0m in \u001b[0;36m<module>\u001b[0;34m()\u001b[0m\n\u001b[0;32m----> 1\u001b[0;31m \u001b[0mgumpy\u001b[0m\u001b[0;34m.\u001b[0m\u001b[0msignal\u001b[0m\u001b[0;34m\u001b[0m\u001b[0;34m\u001b[0m\u001b[0m\n\u001b[0m",
            "\u001b[0;31mAttributeError\u001b[0m: module 'gumpy' has no attribute 'signal'"
          ]
        }
      ]
    },
    {
      "cell_type": "code",
      "metadata": {
        "id": "LnyvGdJyrALI",
        "colab_type": "code",
        "colab": {}
      },
      "source": [
        ""
      ],
      "execution_count": 0,
      "outputs": []
    }
  ]
}